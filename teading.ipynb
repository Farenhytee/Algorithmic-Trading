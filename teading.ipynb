{
 "cells": [
  {
   "cell_type": "code",
   "execution_count": 13,
   "metadata": {},
   "outputs": [],
   "source": [
    "import numpy as np\n",
    "import pandas as pd\n",
    "import requests\n",
    "import xlsxwriter\n",
    "import math"
   ]
  },
  {
   "cell_type": "code",
   "execution_count": 14,
   "metadata": {},
   "outputs": [],
   "source": [
    "stocks = pd.read_csv(\"sp_500_stocks.csv\")"
   ]
  },
  {
   "cell_type": "code",
   "execution_count": 15,
   "metadata": {},
   "outputs": [],
   "source": [
    "from upstox_secrets import UPSTOX_API_KEY\n",
    "from upstox_secrets import UPSTOX_API_SECRET\n",
    "redirect = \"http://localhost:4004/\"\n",
    "client_id = \"KB4716\""
   ]
  },
  {
   "cell_type": "code",
   "execution_count": 16,
   "metadata": {},
   "outputs": [
    {
     "data": {
      "text/plain": [
       "'https://login.upstox.com/login/v2/oauth/authorize?redirect_uri=https://api-v2.upstox.com/login/authorization/redirect&response_type=code&client_id=IND-nyjv70u9xcg2t8e3hkrpdm5b&user_id=errv5TqhAVgFGrsJURMKEQ&user_type=individual'"
      ]
     },
     "execution_count": 16,
     "metadata": {},
     "output_type": "execute_result"
    }
   ],
   "source": [
    "api_url = f\"https://api.upstox.com/v2/login/authorization/dialog?response_type=code&client_id={UPSTOX_API_KEY}&redirect_uri={redirect}\"\n",
    "data = requests.get(api_url)\n",
    "\n",
    "data.url"
   ]
  },
  {
   "cell_type": "code",
   "execution_count": 10,
   "metadata": {},
   "outputs": [
    {
     "data": {
      "text/plain": [
       "'https://login.upstox.com/login/v2/oauth/authorize?redirect_uri=https://api-v2.upstox.com/login/authorization/redirect&response_type=code&client_id=IND-nyjv70u9xcg2t8e3hkrpdm5b&user_id=errv5TqhAVgFGrsJURMKEQ&user_type=individual'"
      ]
     },
     "execution_count": 10,
     "metadata": {},
     "output_type": "execute_result"
    }
   ],
   "source": [
    "url1 = \"https://api.upstox.com/v2/login/authorization/dialog\"\n",
    "\n",
    "payload={}\n",
    "\n",
    "headers = {\n",
    "    'Content-Type': 'application/x-www-form-urlencoded',\n",
    "    'Accept': 'application/json'\n",
    "}\n",
    "params = {\n",
    "    'client_id': f'{UPSTOX_API_KEY}',\n",
    "    'redirect_uri': f'{redirect}',\n",
    "    'response_type': 'code'\n",
    "}\n",
    "\n",
    "response = requests.get(url1, params=params, headers=headers, data=payload)\n",
    "\n",
    "response.url"
   ]
  },
  {
   "cell_type": "code",
   "execution_count": 6,
   "metadata": {},
   "outputs": [
    {
     "name": "stdout",
     "output_type": "stream",
     "text": [
      "{\"status\":\"error\",\"errors\":[{\"errorCode\":\"UDAPI10000\",\"message\":\"This request is not supported by Upstox API\",\"propertyPath\":null,\"invalidValue\":null,\"error_code\":\"UDAPI10000\",\"property_path\":null,\"invalid_value\":null}]}\n"
     ]
    }
   ],
   "source": [
    "url = \"https://api.upstox.com/v2/login/authorization/dialog\"\n",
    "\n",
    "payload={}\n",
    "headers = {}\n",
    "\n",
    "response = requests.request(\"GET\", url, headers=headers, data=payload)\n",
    "\n",
    "print(response.text)"
   ]
  },
  {
   "cell_type": "code",
   "execution_count": 11,
   "metadata": {},
   "outputs": [],
   "source": [
    "url = 'https://api.upstox.com/v2/market-quote/quotes?instrument_key=NSE_EQ%7CINE848E01016'\n",
    "headers = {\n",
    "    'Authorization': f'Bearer {UPSTOX_API_KEY}',\n",
    "    'Accept': 'application/json'\n",
    "}\n",
    "\n",
    "data = requests.get(url, headers=headers)"
   ]
  },
  {
   "cell_type": "code",
   "execution_count": 12,
   "metadata": {},
   "outputs": [
    {
     "data": {
      "text/plain": [
       "<Response [401]>"
      ]
     },
     "execution_count": 12,
     "metadata": {},
     "output_type": "execute_result"
    }
   ],
   "source": [
    "data"
   ]
  }
 ],
 "metadata": {
  "kernelspec": {
   "display_name": "Python 3",
   "language": "python",
   "name": "python3"
  },
  "language_info": {
   "codemirror_mode": {
    "name": "ipython",
    "version": 3
   },
   "file_extension": ".py",
   "mimetype": "text/x-python",
   "name": "python",
   "nbconvert_exporter": "python",
   "pygments_lexer": "ipython3",
   "version": "3.12.3"
  }
 },
 "nbformat": 4,
 "nbformat_minor": 2
}
